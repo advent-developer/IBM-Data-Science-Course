{
 "cells": [
  {
   "cell_type": "code",
   "execution_count": 4,
   "id": "88ab8f1e",
   "metadata": {},
   "outputs": [
    {
     "data": {
      "text/plain": [
       "('example1.txt', <http.client.HTTPMessage at 0x1d9d648f460>)"
      ]
     },
     "execution_count": 4,
     "metadata": {},
     "output_type": "execute_result"
    }
   ],
   "source": [
    "# import the needed libraries\n",
    "import urllib.request\n",
    "url = 'https://cf-courses-data.s3.us.cloud-object-storage.appdomain.cloud/IBMDeveloperSkillsNetwork-PY0101EN-SkillsNetwork/labs/Module%204/data/example1.txt'\n",
    "filename= 'example1.txt'\n",
    "urllib.request.urlretrieve(url,filename)\n",
    "\n"
   ]
  },
  {
   "cell_type": "code",
   "execution_count": 7,
   "id": "78d0f6df",
   "metadata": {},
   "outputs": [],
   "source": [
    "import pandas as pd\n",
    "\n",
    "df=open('example1.txt','r')"
   ]
  },
  {
   "cell_type": "code",
   "execution_count": 8,
   "id": "59779d5e",
   "metadata": {},
   "outputs": [
    {
     "data": {
      "text/plain": [
       "'example1.txt'"
      ]
     },
     "execution_count": 8,
     "metadata": {},
     "output_type": "execute_result"
    }
   ],
   "source": [
    "#print the file name\n",
    "df.name"
   ]
  },
  {
   "cell_type": "code",
   "execution_count": 10,
   "id": "7e30e945",
   "metadata": {},
   "outputs": [
    {
     "data": {
      "text/plain": [
       "'r'"
      ]
     },
     "execution_count": 10,
     "metadata": {},
     "output_type": "execute_result"
    }
   ],
   "source": [
    "#print the mode of the file,\n",
    "df.mode"
   ]
  },
  {
   "cell_type": "code",
   "execution_count": 12,
   "id": "0bc9765f",
   "metadata": {},
   "outputs": [
    {
     "data": {
      "text/plain": [
       "''"
      ]
     },
     "execution_count": 12,
     "metadata": {},
     "output_type": "execute_result"
    }
   ],
   "source": [
    "file1=df.read()\n",
    "file1"
   ]
  },
  {
   "cell_type": "code",
   "execution_count": 13,
   "id": "2b50238b",
   "metadata": {},
   "outputs": [
    {
     "data": {
      "text/plain": [
       "str"
      ]
     },
     "execution_count": 13,
     "metadata": {},
     "output_type": "execute_result"
    }
   ],
   "source": [
    "#deterine the type of file content\n",
    "type(file1)"
   ]
  },
  {
   "cell_type": "code",
   "execution_count": 17,
   "id": "a2f55531",
   "metadata": {},
   "outputs": [],
   "source": [
    "df.close() # always close the file after use."
   ]
  },
  {
   "cell_type": "markdown",
   "id": "efc30891",
   "metadata": {},
   "source": [
    "## A better way to Open a File"
   ]
  },
  {
   "cell_type": "code",
   "execution_count": 23,
   "id": "0c7b922a",
   "metadata": {},
   "outputs": [
    {
     "name": "stdout",
     "output_type": "stream",
     "text": [
      "This is line 1 \n",
      "This is line 2\n",
      "This is line 3\n"
     ]
    }
   ],
   "source": [
    "with open('example1.txt','r') as file1:\n",
    "    file2=file1.read()\n",
    "    print(file2)"
   ]
  },
  {
   "cell_type": "code",
   "execution_count": null,
   "id": "23407a5c",
   "metadata": {},
   "outputs": [],
   "source": []
  }
 ],
 "metadata": {
  "kernelspec": {
   "display_name": "Python 3 (ipykernel)",
   "language": "python",
   "name": "python3"
  },
  "language_info": {
   "codemirror_mode": {
    "name": "ipython",
    "version": 3
   },
   "file_extension": ".py",
   "mimetype": "text/x-python",
   "name": "python",
   "nbconvert_exporter": "python",
   "pygments_lexer": "ipython3",
   "version": "3.10.9"
  }
 },
 "nbformat": 4,
 "nbformat_minor": 5
}
