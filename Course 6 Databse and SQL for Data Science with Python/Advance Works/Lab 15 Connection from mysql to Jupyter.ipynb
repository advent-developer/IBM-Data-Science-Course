{
 "cells": [
  {
   "cell_type": "code",
   "execution_count": 1,
   "id": "e501eac6",
   "metadata": {},
   "outputs": [
    {
     "name": "stdout",
     "output_type": "stream",
     "text": [
      "Requirement already satisfied: mysql-connector-python in c:\\users\\asustuf\\anaconda3\\lib\\site-packages (8.0.33)\n",
      "Collecting protobuf<=3.20.3,>=3.11.0\n",
      "  Downloading protobuf-3.20.3-cp310-cp310-win_amd64.whl (904 kB)\n",
      "     -------------------------------------- 904.0/904.0 kB 1.2 MB/s eta 0:00:00\n",
      "Installing collected packages: protobuf\n",
      "Successfully installed protobuf-3.20.3\n"
     ]
    }
   ],
   "source": [
    "!pip install mysql-connector-python"
   ]
  },
  {
   "cell_type": "code",
   "execution_count": 28,
   "id": "cd5bde24",
   "metadata": {},
   "outputs": [],
   "source": [
    "from sqlalchemy import create_engine"
   ]
  },
  {
   "cell_type": "code",
   "execution_count": 19,
   "id": "9dc39601",
   "metadata": {},
   "outputs": [],
   "source": [
    "import mysql.connector"
   ]
  },
  {
   "cell_type": "code",
   "execution_count": 20,
   "id": "4d75dd0b",
   "metadata": {},
   "outputs": [],
   "source": [
    "con = mysql.connector.connect(\n",
    "    host=\"localhost\",\n",
    "    user=\"root\",\n",
    "    password=\"#Advent777#\",\n",
    "    database=\"hr\"\n",
    ")\n"
   ]
  },
  {
   "cell_type": "code",
   "execution_count": 21,
   "id": "eb94e1a0",
   "metadata": {},
   "outputs": [],
   "source": [
    "import pandas as pd"
   ]
  },
  {
   "cell_type": "code",
   "execution_count": 22,
   "id": "e69e5794",
   "metadata": {},
   "outputs": [],
   "source": [
    "cursor = con.cursor() #create a cursor object"
   ]
  },
  {
   "cell_type": "code",
   "execution_count": 31,
   "id": "1b9a0ced",
   "metadata": {},
   "outputs": [],
   "source": [
    "query = \"Select * from jobs\"  #Execute a SQL query\n"
   ]
  },
  {
   "cell_type": "code",
   "execution_count": 32,
   "id": "449ea5e7",
   "metadata": {},
   "outputs": [],
   "source": [
    "cursor.execute(query)       #Execute a SQL query"
   ]
  },
  {
   "cell_type": "code",
   "execution_count": 33,
   "id": "bb7bd759",
   "metadata": {},
   "outputs": [],
   "source": [
    "result = cursor.fetchall()   # fetch the result"
   ]
  },
  {
   "cell_type": "code",
   "execution_count": 34,
   "id": "5960ab96",
   "metadata": {},
   "outputs": [
    {
     "name": "stdout",
     "output_type": "stream",
     "text": [
      "('100', 'Sr. Architect', Decimal('60000.00'), Decimal('100000.00'))\n",
      "('200', 'Sr.Software Developer', Decimal('60000.00'), Decimal('80000.00'))\n",
      "('220', 'Sr. Designer', Decimal('70000.00'), Decimal('90000.00'))\n",
      "('234', 'Sr. Designer', Decimal('70000.00'), Decimal('90000.00'))\n",
      "('300', 'Jr.Software Developer', Decimal('40000.00'), Decimal('60000.00'))\n",
      "('400', 'Jr.Software Developer', Decimal('40000.00'), Decimal('60000.00'))\n",
      "('500', 'Jr. Architect', Decimal('50000.00'), Decimal('70000.00'))\n",
      "('600', 'Lead Architect', Decimal('70000.00'), Decimal('100000.00'))\n",
      "('650', 'Jr. Designer', Decimal('60000.00'), Decimal('70000.00'))\n",
      "('660', 'Jr. Designer', Decimal('60000.00'), Decimal('70000.00'))\n"
     ]
    }
   ],
   "source": [
    "for row in result:    #print the results\n",
    "    print(row)"
   ]
  },
  {
   "cell_type": "code",
   "execution_count": 36,
   "id": "0484182d",
   "metadata": {},
   "outputs": [
    {
     "data": {
      "text/html": [
       "<div>\n",
       "<style scoped>\n",
       "    .dataframe tbody tr th:only-of-type {\n",
       "        vertical-align: middle;\n",
       "    }\n",
       "\n",
       "    .dataframe tbody tr th {\n",
       "        vertical-align: top;\n",
       "    }\n",
       "\n",
       "    .dataframe thead th {\n",
       "        text-align: right;\n",
       "    }\n",
       "</style>\n",
       "<table border=\"1\" class=\"dataframe\">\n",
       "  <thead>\n",
       "    <tr style=\"text-align: right;\">\n",
       "      <th></th>\n",
       "      <th>0</th>\n",
       "      <th>1</th>\n",
       "      <th>2</th>\n",
       "      <th>3</th>\n",
       "    </tr>\n",
       "  </thead>\n",
       "  <tbody>\n",
       "    <tr>\n",
       "      <th>0</th>\n",
       "      <td>100</td>\n",
       "      <td>Sr. Architect</td>\n",
       "      <td>60000.00</td>\n",
       "      <td>100000.00</td>\n",
       "    </tr>\n",
       "    <tr>\n",
       "      <th>1</th>\n",
       "      <td>200</td>\n",
       "      <td>Sr.Software Developer</td>\n",
       "      <td>60000.00</td>\n",
       "      <td>80000.00</td>\n",
       "    </tr>\n",
       "    <tr>\n",
       "      <th>2</th>\n",
       "      <td>220</td>\n",
       "      <td>Sr. Designer</td>\n",
       "      <td>70000.00</td>\n",
       "      <td>90000.00</td>\n",
       "    </tr>\n",
       "    <tr>\n",
       "      <th>3</th>\n",
       "      <td>234</td>\n",
       "      <td>Sr. Designer</td>\n",
       "      <td>70000.00</td>\n",
       "      <td>90000.00</td>\n",
       "    </tr>\n",
       "    <tr>\n",
       "      <th>4</th>\n",
       "      <td>300</td>\n",
       "      <td>Jr.Software Developer</td>\n",
       "      <td>40000.00</td>\n",
       "      <td>60000.00</td>\n",
       "    </tr>\n",
       "    <tr>\n",
       "      <th>5</th>\n",
       "      <td>400</td>\n",
       "      <td>Jr.Software Developer</td>\n",
       "      <td>40000.00</td>\n",
       "      <td>60000.00</td>\n",
       "    </tr>\n",
       "    <tr>\n",
       "      <th>6</th>\n",
       "      <td>500</td>\n",
       "      <td>Jr. Architect</td>\n",
       "      <td>50000.00</td>\n",
       "      <td>70000.00</td>\n",
       "    </tr>\n",
       "    <tr>\n",
       "      <th>7</th>\n",
       "      <td>600</td>\n",
       "      <td>Lead Architect</td>\n",
       "      <td>70000.00</td>\n",
       "      <td>100000.00</td>\n",
       "    </tr>\n",
       "    <tr>\n",
       "      <th>8</th>\n",
       "      <td>650</td>\n",
       "      <td>Jr. Designer</td>\n",
       "      <td>60000.00</td>\n",
       "      <td>70000.00</td>\n",
       "    </tr>\n",
       "    <tr>\n",
       "      <th>9</th>\n",
       "      <td>660</td>\n",
       "      <td>Jr. Designer</td>\n",
       "      <td>60000.00</td>\n",
       "      <td>70000.00</td>\n",
       "    </tr>\n",
       "  </tbody>\n",
       "</table>\n",
       "</div>"
      ],
      "text/plain": [
       "     0                      1         2          3\n",
       "0  100          Sr. Architect  60000.00  100000.00\n",
       "1  200  Sr.Software Developer  60000.00   80000.00\n",
       "2  220           Sr. Designer  70000.00   90000.00\n",
       "3  234           Sr. Designer  70000.00   90000.00\n",
       "4  300  Jr.Software Developer  40000.00   60000.00\n",
       "5  400  Jr.Software Developer  40000.00   60000.00\n",
       "6  500          Jr. Architect  50000.00   70000.00\n",
       "7  600         Lead Architect  70000.00  100000.00\n",
       "8  650           Jr. Designer  60000.00   70000.00\n",
       "9  660           Jr. Designer  60000.00   70000.00"
      ]
     },
     "execution_count": 36,
     "metadata": {},
     "output_type": "execute_result"
    }
   ],
   "source": [
    "df = pd.DataFrame(result)\n",
    "df.head(10)\n"
   ]
  },
  {
   "cell_type": "code",
   "execution_count": null,
   "id": "0235f446",
   "metadata": {},
   "outputs": [],
   "source": []
  },
  {
   "cell_type": "code",
   "execution_count": null,
   "id": "178c2dfb",
   "metadata": {},
   "outputs": [],
   "source": []
  }
 ],
 "metadata": {
  "kernelspec": {
   "display_name": "Python 3 (ipykernel)",
   "language": "python",
   "name": "python3"
  },
  "language_info": {
   "codemirror_mode": {
    "name": "ipython",
    "version": 3
   },
   "file_extension": ".py",
   "mimetype": "text/x-python",
   "name": "python",
   "nbconvert_exporter": "python",
   "pygments_lexer": "ipython3",
   "version": "3.10.9"
  }
 },
 "nbformat": 4,
 "nbformat_minor": 5
}
