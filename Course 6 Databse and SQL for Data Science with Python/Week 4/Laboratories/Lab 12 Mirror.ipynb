{
 "cells": [
  {
   "cell_type": "code",
   "execution_count": 1,
   "id": "43c485f4",
   "metadata": {},
   "outputs": [
    {
     "name": "stdout",
     "output_type": "stream",
     "text": [
      "Requirement already satisfied: db-sqlite3 in c:\\users\\asustuf\\anaconda3\\lib\\site-packages (0.0.1)\n",
      "Requirement already satisfied: db in c:\\users\\asustuf\\anaconda3\\lib\\site-packages (from db-sqlite3) (0.1.1)\n",
      "Requirement already satisfied: antiorm in c:\\users\\asustuf\\anaconda3\\lib\\site-packages (from db->db-sqlite3) (1.2.1)\n"
     ]
    }
   ],
   "source": [
    "!pip install db-sqlite3"
   ]
  },
  {
   "cell_type": "code",
   "execution_count": 2,
   "id": "9aec7162",
   "metadata": {},
   "outputs": [],
   "source": [
    "import sqlite3"
   ]
  },
  {
   "cell_type": "code",
   "execution_count": 3,
   "id": "2d0482d6",
   "metadata": {},
   "outputs": [],
   "source": [
    "# create a connection object\n",
    "conn = sqlite3.connect(\"Instructor.db\")  # The file is created along the location of this notebook"
   ]
  },
  {
   "cell_type": "code",
   "execution_count": 4,
   "id": "2cb1ded5",
   "metadata": {},
   "outputs": [],
   "source": [
    "# create a cursor object\n",
    "cursor_obj = conn.cursor()"
   ]
  },
  {
   "cell_type": "markdown",
   "id": "b8794d82",
   "metadata": {},
   "source": [
    "## Create a Table"
   ]
  },
  {
   "cell_type": "code",
   "execution_count": 5,
   "id": "72513130",
   "metadata": {},
   "outputs": [
    {
     "name": "stdout",
     "output_type": "stream",
     "text": [
      "Table is ready\n"
     ]
    }
   ],
   "source": [
    "table = \"\"\"CREATE TABLE INSTRUCTOR(ID INTEGER PRIMARY KEY NOT NULL,FNAME VARCHAR(20),LNAME VARCHAR(20),CITY VARCHAR(20),CCODE CHAR(2));\"\"\"\n",
    "\n",
    "cursor_obj.execute(table)\n",
    "\n",
    "print(\"Table is ready\")\n"
   ]
  },
  {
   "cell_type": "markdown",
   "id": "e4d7cbe0",
   "metadata": {},
   "source": [
    "## Insert data into the table"
   ]
  },
  {
   "cell_type": "code",
   "execution_count": 7,
   "id": "b7042d22",
   "metadata": {},
   "outputs": [
    {
     "data": {
      "text/plain": [
       "<sqlite3.Cursor at 0x23a63eeb340>"
      ]
     },
     "execution_count": 7,
     "metadata": {},
     "output_type": "execute_result"
    }
   ],
   "source": [
    "cursor_obj.execute('''INSERT INTO INSTRUCTOR VALUES(1, 'Rav', 'Ahuja', 'TORONTO', 'CA')''')"
   ]
  },
  {
   "cell_type": "code",
   "execution_count": 8,
   "id": "b1e25273",
   "metadata": {},
   "outputs": [
    {
     "data": {
      "text/plain": [
       "<sqlite3.Cursor at 0x23a63eeb340>"
      ]
     },
     "execution_count": 8,
     "metadata": {},
     "output_type": "execute_result"
    }
   ],
   "source": [
    "cursor_obj.execute('''insert into INSTRUCTOR values (2, 'Raul', 'Chong', 'Markham', 'CA'), (3, 'Hima', 'Vasudevan', 'Chicago', 'US')''')"
   ]
  },
  {
   "cell_type": "markdown",
   "id": "d3b618af",
   "metadata": {},
   "source": [
    "## Query Data in the table"
   ]
  },
  {
   "cell_type": "code",
   "execution_count": 9,
   "id": "e8498e00",
   "metadata": {},
   "outputs": [],
   "source": [
    "statement = '''Select * from instructor;'''"
   ]
  },
  {
   "cell_type": "code",
   "execution_count": 10,
   "id": "a921fd22",
   "metadata": {},
   "outputs": [
    {
     "name": "stdout",
     "output_type": "stream",
     "text": [
      "(1, 'Rav', 'Ahuja', 'TORONTO', 'CA')\n",
      "(2, 'Raul', 'Chong', 'Markham', 'CA')\n",
      "(3, 'Hima', 'Vasudevan', 'Chicago', 'US')\n"
     ]
    }
   ],
   "source": [
    "cursor_obj.execute(statement)\n",
    "\n",
    "output = cursor_obj.fetchall()\n",
    "for row in output:\n",
    "    print(row)"
   ]
  },
  {
   "cell_type": "markdown",
   "id": "4bc56e87",
   "metadata": {},
   "source": [
    "## Retrieve data into Pandas"
   ]
  },
  {
   "cell_type": "code",
   "execution_count": 11,
   "id": "8bccb65f",
   "metadata": {},
   "outputs": [],
   "source": [
    "import pandas as pd"
   ]
  },
  {
   "cell_type": "code",
   "execution_count": 13,
   "id": "00b0f9b8",
   "metadata": {},
   "outputs": [],
   "source": [
    "# retrieve the result query into pandas dataframe\n",
    "df = pd.read_sql_query(\"Select * from instructor;\",conn)"
   ]
  },
  {
   "cell_type": "code",
   "execution_count": 14,
   "id": "c0e9aa94",
   "metadata": {},
   "outputs": [
    {
     "data": {
      "text/html": [
       "<div>\n",
       "<style scoped>\n",
       "    .dataframe tbody tr th:only-of-type {\n",
       "        vertical-align: middle;\n",
       "    }\n",
       "\n",
       "    .dataframe tbody tr th {\n",
       "        vertical-align: top;\n",
       "    }\n",
       "\n",
       "    .dataframe thead th {\n",
       "        text-align: right;\n",
       "    }\n",
       "</style>\n",
       "<table border=\"1\" class=\"dataframe\">\n",
       "  <thead>\n",
       "    <tr style=\"text-align: right;\">\n",
       "      <th></th>\n",
       "      <th>ID</th>\n",
       "      <th>FNAME</th>\n",
       "      <th>LNAME</th>\n",
       "      <th>CITY</th>\n",
       "      <th>CCODE</th>\n",
       "    </tr>\n",
       "  </thead>\n",
       "  <tbody>\n",
       "    <tr>\n",
       "      <th>0</th>\n",
       "      <td>1</td>\n",
       "      <td>Rav</td>\n",
       "      <td>Ahuja</td>\n",
       "      <td>TORONTO</td>\n",
       "      <td>CA</td>\n",
       "    </tr>\n",
       "    <tr>\n",
       "      <th>1</th>\n",
       "      <td>2</td>\n",
       "      <td>Raul</td>\n",
       "      <td>Chong</td>\n",
       "      <td>Markham</td>\n",
       "      <td>CA</td>\n",
       "    </tr>\n",
       "    <tr>\n",
       "      <th>2</th>\n",
       "      <td>3</td>\n",
       "      <td>Hima</td>\n",
       "      <td>Vasudevan</td>\n",
       "      <td>Chicago</td>\n",
       "      <td>US</td>\n",
       "    </tr>\n",
       "  </tbody>\n",
       "</table>\n",
       "</div>"
      ],
      "text/plain": [
       "   ID FNAME      LNAME     CITY CCODE\n",
       "0   1   Rav      Ahuja  TORONTO    CA\n",
       "1   2  Raul      Chong  Markham    CA\n",
       "2   3  Hima  Vasudevan  Chicago    US"
      ]
     },
     "execution_count": 14,
     "metadata": {},
     "output_type": "execute_result"
    }
   ],
   "source": [
    "#print the dataframe\n",
    "df"
   ]
  },
  {
   "cell_type": "code",
   "execution_count": 17,
   "id": "86a1f5fe",
   "metadata": {},
   "outputs": [
    {
     "data": {
      "text/html": [
       "<div>\n",
       "<style scoped>\n",
       "    .dataframe tbody tr th:only-of-type {\n",
       "        vertical-align: middle;\n",
       "    }\n",
       "\n",
       "    .dataframe tbody tr th {\n",
       "        vertical-align: top;\n",
       "    }\n",
       "\n",
       "    .dataframe thead th {\n",
       "        text-align: right;\n",
       "    }\n",
       "</style>\n",
       "<table border=\"1\" class=\"dataframe\">\n",
       "  <thead>\n",
       "    <tr style=\"text-align: right;\">\n",
       "      <th></th>\n",
       "      <th>FNAME</th>\n",
       "    </tr>\n",
       "  </thead>\n",
       "  <tbody>\n",
       "    <tr>\n",
       "      <th>0</th>\n",
       "      <td>Rav</td>\n",
       "    </tr>\n",
       "    <tr>\n",
       "      <th>1</th>\n",
       "      <td>Raul</td>\n",
       "    </tr>\n",
       "    <tr>\n",
       "      <th>2</th>\n",
       "      <td>Hima</td>\n",
       "    </tr>\n",
       "  </tbody>\n",
       "</table>\n",
       "</div>"
      ],
      "text/plain": [
       "  FNAME\n",
       "0   Rav\n",
       "1  Raul\n",
       "2  Hima"
      ]
     },
     "execution_count": 17,
     "metadata": {},
     "output_type": "execute_result"
    }
   ],
   "source": [
    "df[['FNAME']]"
   ]
  },
  {
   "cell_type": "code",
   "execution_count": 18,
   "id": "46005848",
   "metadata": {},
   "outputs": [
    {
     "data": {
      "text/plain": [
       "(3, 5)"
      ]
     },
     "execution_count": 18,
     "metadata": {},
     "output_type": "execute_result"
    }
   ],
   "source": [
    "df.shape"
   ]
  },
  {
   "cell_type": "markdown",
   "id": "badd9db8",
   "metadata": {},
   "source": [
    "## Close the Connection"
   ]
  },
  {
   "cell_type": "code",
   "execution_count": 19,
   "id": "8cf3328a",
   "metadata": {},
   "outputs": [],
   "source": [
    "#close the connection\n",
    "conn.close()"
   ]
  },
  {
   "cell_type": "code",
   "execution_count": null,
   "id": "ac1a7155",
   "metadata": {},
   "outputs": [],
   "source": []
  }
 ],
 "metadata": {
  "kernelspec": {
   "display_name": "Python 3 (ipykernel)",
   "language": "python",
   "name": "python3"
  },
  "language_info": {
   "codemirror_mode": {
    "name": "ipython",
    "version": 3
   },
   "file_extension": ".py",
   "mimetype": "text/x-python",
   "name": "python",
   "nbconvert_exporter": "python",
   "pygments_lexer": "ipython3",
   "version": "3.10.9"
  }
 },
 "nbformat": 4,
 "nbformat_minor": 5
}
